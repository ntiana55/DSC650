{
 "cells": [
  {
   "cell_type": "code",
   "execution_count": 6,
   "id": "nervous-government",
   "metadata": {},
   "outputs": [],
   "source": [
    "import os\n",
    "import sys\n",
    "import gzip\n",
    "import json\n",
    "from pathlib import Path\n",
    "import csv\n",
    "\n",
    "import pandas as pd\n",
    "import s3fs\n",
    "import pyarrow as pa\n",
    "from pyarrow.json import read_json\n",
    "import pyarrow.parquet as pq\n",
    "import fastavro\n",
    "import pygeohash\n",
    "import snappy\n",
    "import jsonschema\n",
    "from jsonschema.exceptions import ValidationError\n",
    "from jsonschema import validate\n",
    "\n",
    "\n",
    "endpoint_url='https://storage.budsc.midwest-datascience.com'\n",
    "\n",
    "current_dir = Path(os.getcwd()).absolute()\n",
    "schema_dir = current_dir.joinpath('schemas')\n",
    "results_dir = current_dir.joinpath('results')\n",
    "results_dir.mkdir(parents=True, exist_ok=True)\n",
    "\n",
    "\n",
    "def read_jsonl_data():\n",
    "    s3 = s3fs.S3FileSystem(\n",
    "        anon=True,\n",
    "        client_kwargs={\n",
    "            'endpoint_url': endpoint_url\n",
    "        }\n",
    "    )\n",
    "    src_data_path = 'data/processed/openflights/routes.jsonl.gz'\n",
    "    with s3.open(src_data_path, 'rb') as f_gz:\n",
    "        with gzip.open(f_gz, 'rb') as f:\n",
    "            records = [json.loads(line) for line in f.readlines()]\n",
    "        \n",
    "\n",
    "    return records"
   ]
  },
  {
   "cell_type": "code",
   "execution_count": 4,
   "id": "friendly-weight",
   "metadata": {},
   "outputs": [
    {
     "name": "stdout",
     "output_type": "stream",
     "text": [
      "{\n",
      "    \"airline\": {\n",
      "        \"airline_id\": 410,\n",
      "        \"name\": \"Aerocondor\",\n",
      "        \"alias\": \"ANA All Nippon Airways\",\n",
      "        \"iata\": \"2B\",\n",
      "        \"icao\": \"ARD\",\n",
      "        \"callsign\": \"AEROCONDOR\",\n",
      "        \"country\": \"Portugal\",\n",
      "        \"active\": true\n",
      "    },\n",
      "    \"src_airport\": {\n",
      "        \"airport_id\": 2965,\n",
      "        \"name\": \"Sochi International Airport\",\n",
      "        \"city\": \"Sochi\",\n",
      "        \"country\": \"Russia\",\n",
      "        \"iata\": \"AER\",\n",
      "        \"icao\": \"URSS\",\n",
      "        \"latitude\": 43.449902,\n",
      "        \"longitude\": 39.9566,\n",
      "        \"altitude\": 89,\n",
      "        \"timezone\": 3.0,\n",
      "        \"dst\": \"N\",\n",
      "        \"tz_id\": \"Europe/Moscow\",\n",
      "        \"type\": \"airport\",\n",
      "        \"source\": \"OurAirports\"\n",
      "    },\n",
      "    \"dst_airport\": {\n",
      "        \"airport_id\": 2990,\n",
      "        \"name\": \"Kazan International Airport\",\n",
      "        \"city\": \"Kazan\",\n",
      "        \"country\": \"Russia\",\n",
      "        \"iata\": \"KZN\",\n",
      "        \"icao\": \"UWKD\",\n",
      "        \"latitude\": 55.606201171875,\n",
      "        \"longitude\": 49.278701782227,\n",
      "        \"altitude\": 411,\n",
      "        \"timezone\": 3.0,\n",
      "        \"dst\": \"N\",\n",
      "        \"tz_id\": \"Europe/Moscow\",\n",
      "        \"type\": \"airport\",\n",
      "        \"source\": \"OurAirports\"\n",
      "    },\n",
      "    \"codeshare\": false,\n",
      "    \"equipment\": [\n",
      "        \"CR2\"\n",
      "    ]\n",
      "}\n"
     ]
    }
   ],
   "source": [
    "records = read_jsonl_data()\n",
    "\n",
    "print(json.dumps(records[0], sort_keys=False, indent=4))"
   ]
  },
  {
   "cell_type": "code",
   "execution_count": 3,
   "id": "inclusive-adolescent",
   "metadata": {},
   "outputs": [],
   "source": [
    "# 3.1"
   ]
  },
  {
   "cell_type": "code",
   "execution_count": 5,
   "id": "verified-heather",
   "metadata": {},
   "outputs": [],
   "source": [
    "# 3.1 a"
   ]
  },
  {
   "cell_type": "code",
   "execution_count": 18,
   "id": "breeding-parameter",
   "metadata": {},
   "outputs": [
    {
     "ename": "FileNotFoundError",
     "evalue": "[Errno 2] No such file or directory: '/home/jovyan/lost+found/assignment03/schemas/routes-schema.json'",
     "output_type": "error",
     "traceback": [
      "\u001b[0;31m---------------------------------------------------------------------------\u001b[0m",
      "\u001b[0;31mFileNotFoundError\u001b[0m                         Traceback (most recent call last)",
      "\u001b[0;32m<ipython-input-18-4de4aa62983c>\u001b[0m in \u001b[0;36m<module>\u001b[0;34m\u001b[0m\n\u001b[1;32m     19\u001b[0m \u001b[0;34m\u001b[0m\u001b[0m\n\u001b[1;32m     20\u001b[0m \u001b[0;34m\u001b[0m\u001b[0m\n\u001b[0;32m---> 21\u001b[0;31m \u001b[0mvalidate_jsonl_data\u001b[0m\u001b[0;34m(\u001b[0m\u001b[0mrecords\u001b[0m\u001b[0;34m)\u001b[0m\u001b[0;34m\u001b[0m\u001b[0;34m\u001b[0m\u001b[0m\n\u001b[0m",
      "\u001b[0;32m<ipython-input-18-4de4aa62983c>\u001b[0m in \u001b[0;36mvalidate_jsonl_data\u001b[0;34m(records)\u001b[0m\n\u001b[1;32m      1\u001b[0m \u001b[0;32mdef\u001b[0m \u001b[0mvalidate_jsonl_data\u001b[0m\u001b[0;34m(\u001b[0m\u001b[0mrecords\u001b[0m\u001b[0;34m)\u001b[0m\u001b[0;34m:\u001b[0m\u001b[0;34m\u001b[0m\u001b[0;34m\u001b[0m\u001b[0m\n\u001b[1;32m      2\u001b[0m     \u001b[0mschema_path\u001b[0m \u001b[0;34m=\u001b[0m \u001b[0mschema_dir\u001b[0m\u001b[0;34m.\u001b[0m\u001b[0mjoinpath\u001b[0m\u001b[0;34m(\u001b[0m\u001b[0;34m'routes-schema.json'\u001b[0m\u001b[0;34m)\u001b[0m\u001b[0;34m\u001b[0m\u001b[0;34m\u001b[0m\u001b[0m\n\u001b[0;32m----> 3\u001b[0;31m     \u001b[0;32mwith\u001b[0m \u001b[0mopen\u001b[0m\u001b[0;34m(\u001b[0m\u001b[0mschema_path\u001b[0m\u001b[0;34m)\u001b[0m \u001b[0;32mas\u001b[0m \u001b[0mf\u001b[0m\u001b[0;34m:\u001b[0m\u001b[0;34m\u001b[0m\u001b[0;34m\u001b[0m\u001b[0m\n\u001b[0m\u001b[1;32m      4\u001b[0m         \u001b[0mschema\u001b[0m \u001b[0;34m=\u001b[0m \u001b[0mjson\u001b[0m\u001b[0;34m.\u001b[0m\u001b[0mload\u001b[0m\u001b[0;34m(\u001b[0m\u001b[0mf\u001b[0m\u001b[0;34m)\u001b[0m\u001b[0;34m\u001b[0m\u001b[0;34m\u001b[0m\u001b[0m\n\u001b[1;32m      5\u001b[0m \u001b[0;34m\u001b[0m\u001b[0m\n",
      "\u001b[0;31mFileNotFoundError\u001b[0m: [Errno 2] No such file or directory: '/home/jovyan/lost+found/assignment03/schemas/routes-schema.json'"
     ]
    }
   ],
   "source": [
    "def validate_jsonl_data(records):\n",
    "    schema_path = schema_dir.joinpath('routes-schema.json')\n",
    "    with open(schema_path) as f:\n",
    "        schema = json.load(f)\n",
    "        \n",
    "        validation_csv_path = result_dir.joinpath('results.csv')\n",
    "        \n",
    "    with open(validation_csv_path, 'w') as f:    \n",
    "        for i, record in enumerate(records):\n",
    "            try:\n",
    "                validate(instance=records, schema = schema)\n",
    "                with open('results.csv', mode='w') as csv_file:\n",
    "                    pass\n",
    "            except ValidationError as e:\n",
    "                print(err)\n",
    "                err = \"Given JSON data is Invalid\"\n",
    "                return False, err\n",
    "            pass\n",
    "            \n",
    "\n",
    "validate_jsonl_data(records)"
   ]
  },
  {
   "cell_type": "code",
   "execution_count": null,
   "id": "moving-ladder",
   "metadata": {},
   "outputs": [],
   "source": []
  }
 ],
 "metadata": {
  "kernelspec": {
   "display_name": "Python 3",
   "language": "python",
   "name": "python3"
  },
  "language_info": {
   "codemirror_mode": {
    "name": "ipython",
    "version": 3
   },
   "file_extension": ".py",
   "mimetype": "text/x-python",
   "name": "python",
   "nbconvert_exporter": "python",
   "pygments_lexer": "ipython3",
   "version": "3.8.8"
  }
 },
 "nbformat": 4,
 "nbformat_minor": 5
}
