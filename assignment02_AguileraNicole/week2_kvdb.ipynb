{
 "cells": [
  {
   "cell_type": "code",
   "execution_count": 3,
   "id": "determined-scott",
   "metadata": {},
   "outputs": [],
   "source": [
    "import json\n",
    "from pathlib import Path\n",
    "import os\n",
    "\n",
    "import pandas as pd\n",
    "import s3fs\n",
    "\n",
    "\n",
    "def read_cluster_csv(file_path, endpoint_url='https://storage.budsc.midwest-datascience.com'):\n",
    "    s3 = s3fs.S3FileSystem(\n",
    "        anon=True,\n",
    "        client_kwargs={\n",
    "            'endpoint_url': endpoint_url\n",
    "        }\n",
    "    )\n",
    "    return pd.read_csv(s3.open(file_path, mode='rb'))\n",
    "\n",
    "current_dir = Path(os.getcwd()).absolute()\n",
    "results_dir = current_dir.joinpath('results')\n",
    "kv_data_dir = results_dir.joinpath('kvdb')\n",
    "kv_data_dir.mkdir(parents=True, exist_ok=True)\n",
    "\n",
    "people_json = kv_data_dir.joinpath('people.json')\n",
    "visited_json = kv_data_dir.joinpath('visited.json')\n",
    "sites_json = kv_data_dir.joinpath('sites.json')\n",
    "measurements_json = kv_data_dir.joinpath('measurements.json')"
   ]
  },
  {
   "cell_type": "code",
   "execution_count": 4,
   "id": "polished-standing",
   "metadata": {},
   "outputs": [],
   "source": [
    "class KVDB(object):\n",
    "    def __init__(self, db_path):\n",
    "        self._db_path = Path(db_path)\n",
    "        self._db = {}\n",
    "        self._load_db()\n",
    "\n",
    "    def _load_db(self):\n",
    "        if self._db_path.exists():\n",
    "            with open(self._db_path) as f:\n",
    "                self._db = json.load(f)\n",
    "\n",
    "    def get_value(self, key):\n",
    "        return self._db.get(key)\n",
    "\n",
    "    def set_value(self, key, value):\n",
    "        self._db[key] = value\n",
    "\n",
    "    def save(self):\n",
    "        with open(self._db_path, 'w') as f:\n",
    "            json.dump(self._db, f, indent=2)"
   ]
  },
  {
   "cell_type": "code",
   "execution_count": 5,
   "id": "impressed-universe",
   "metadata": {},
   "outputs": [],
   "source": [
    "def create_sites_kvdb():\n",
    "    db = KVDB(sites_json)\n",
    "    df = read_cluster_csv('data/external/tidynomicon/site.csv')\n",
    "    for site_id, group_df in df.groupby('site_id'):\n",
    "        db.set_value(site_id, group_df.to_dict(orient='records')[0])\n",
    "    db.save()\n",
    "    print(df.head())\n",
    "\n",
    "\n",
    "def create_people_kvdb():\n",
    "    db = KVDB(people_json)\n",
    "    df2 = read_cluster_csv('data/external/tidynomicon/person.csv')\n",
    "    for person_id, group_df in df2.groupby('person_id'):\n",
    "        db.set_value(person_id, group_df.to_dict(orient='records')[0])    \n",
    "    db.save()\n",
    "    print(df2.head())\n",
    "\n",
    "\n",
    "def create_visits_kvdb():\n",
    "    db = KVDB(visited_json)\n",
    "    df3 = read_cluster_csv('data/external/tidynomicon/visited.csv')\n",
    "    for visit_id, group_df in df3.groupby('visit_id'):\n",
    "        db.set_value(visit_id, group_df.to_dict(orient='records')[0])    \n",
    "    db.save()\n",
    "    print(df3.head())\n",
    "\n",
    "\n",
    "def create_measurements_kvdb():\n",
    "    db = KVDB(measurements_json)\n",
    "    df4 = read_cluster_csv('data/external/tidynomicon/measurements.csv')\n",
    "    for visit_id, group_df in df4.groupby('visit_id'):\n",
    "        db.set_value(visit_id, group_df.to_dict(orient='records')[0])    \n",
    "    db.save()\n",
    "    print(df4.head())"
   ]
  },
  {
   "cell_type": "code",
   "execution_count": 6,
   "id": "innovative-lounge",
   "metadata": {},
   "outputs": [
    {
     "name": "stdout",
     "output_type": "stream",
     "text": [
      "  site_id  latitude  longitude\n",
      "0    DR-1    -49.85    -128.57\n",
      "1    DR-3    -47.15    -126.72\n",
      "2   MSK-4    -48.87    -123.40\n",
      "  person_id personal_name family_name\n",
      "0      dyer       William        Dyer\n",
      "1        pb         Frank     Pabodie\n",
      "2      lake      Anderson        Lake\n",
      "3       roe     Valentina     Roerich\n",
      "4  danforth         Frank    Danforth\n",
      "   visit_id site_id  visit_date\n",
      "0       619    DR-1  1927-02-08\n",
      "1       622    DR-1  1927-02-10\n",
      "2       734    DR-3  1930-01-07\n",
      "3       735    DR-3  1930-01-12\n",
      "4       751    DR-3  1930-02-26\n",
      "   visit_id person_id quantity  reading\n",
      "0       619      dyer      rad     9.82\n",
      "1       619      dyer      sal     0.13\n",
      "2       622      dyer      rad     7.80\n",
      "3       622      dyer      sal     0.09\n",
      "4       734        pb      rad     8.41\n"
     ]
    }
   ],
   "source": [
    "create_sites_kvdb()\n",
    "create_people_kvdb()\n",
    "create_visits_kvdb()\n",
    "create_measurements_kvdb()"
   ]
  },
  {
   "cell_type": "code",
   "execution_count": null,
   "id": "proper-throat",
   "metadata": {},
   "outputs": [],
   "source": []
  }
 ],
 "metadata": {
  "kernelspec": {
   "display_name": "Python 3",
   "language": "python",
   "name": "python3"
  },
  "language_info": {
   "codemirror_mode": {
    "name": "ipython",
    "version": 3
   },
   "file_extension": ".py",
   "mimetype": "text/x-python",
   "name": "python",
   "nbconvert_exporter": "python",
   "pygments_lexer": "ipython3",
   "version": "3.8.8"
  }
 },
 "nbformat": 4,
 "nbformat_minor": 5
}
